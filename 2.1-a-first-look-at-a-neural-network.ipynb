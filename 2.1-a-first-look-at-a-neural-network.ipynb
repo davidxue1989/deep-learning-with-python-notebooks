{
 "cells": [
  {
   "cell_type": "code",
   "execution_count": 191,
   "metadata": {},
   "outputs": [],
   "source": [
    "import keras\n",
    "keras.__version__\n",
    "\n",
    "from keras.datasets import mnist\n",
    "from keras.utils import to_categorical\n",
    "from keras import models\n",
    "from keras import layers\n",
    "\n",
    "import numpy as np\n",
    "\n",
    "from matplotlib import pyplot as plt\n",
    "%matplotlib inline\n",
    "\n",
    "\n",
    "(train_images, train_labels), (test_images, test_labels) = mnist.load_data()\n",
    "train_images_cp = train_images.copy()\n",
    "train_labels_cp = train_labels.copy()\n",
    "test_images_cp = test_images.copy()\n",
    "test_labels_cp = test_labels.copy()\n",
    "\n",
    "train_images = train_images.reshape((60000, 28 * 28))\n",
    "train_images = train_images.astype('float32') / 255\n",
    "\n",
    "test_images = test_images.reshape((10000, 28 * 28))\n",
    "test_images = test_images.astype('float32') / 255\n",
    "\n",
    "\n",
    "train_labels = to_categorical(train_labels)\n",
    "test_labels = to_categorical(test_labels)\n",
    "\n",
    "def showHistory(history):\n",
    "    acc = history.history['acc']\n",
    "    val_acc = history.history['val_acc']\n",
    "    loss = history.history['loss']\n",
    "    val_loss = history.history['val_loss']\n",
    "\n",
    "    epochs = range(1, len(acc) + 1)\n",
    "\n",
    "    # \"bo\" is for \"blue dot\"\n",
    "    plt.plot(epochs, loss, 'bo', label='Training loss')\n",
    "    # b is for \"solid blue line\"\n",
    "    plt.plot(epochs, val_loss, 'b', label='Validation loss')\n",
    "    plt.title('Training and validation loss')\n",
    "    plt.xlabel('Epochs')\n",
    "    plt.ylabel('Loss')\n",
    "    plt.legend()\n",
    "\n",
    "    plt.show()\n",
    "\n",
    "#     plt.clf()   # clear figure\n",
    "    plt.figure()\n",
    "\n",
    "    plt.plot(epochs, acc, 'bo', label='Training acc')\n",
    "    plt.plot(epochs, val_acc, 'b', label='Validation acc')\n",
    "    plt.title('Training and validation accuracy')\n",
    "    plt.xlabel('Epochs')\n",
    "    plt.ylabel('Loss')\n",
    "    plt.legend()\n",
    "\n",
    "    plt.show()"
   ]
  },
  {
   "cell_type": "code",
   "execution_count": 200,
   "metadata": {},
   "outputs": [
    {
     "name": "stdout",
     "output_type": "stream",
     "text": [
      "Train on 50000 samples, validate on 10000 samples\n",
      "Epoch 1/20\n",
      " 2944/50000 [>.............................] - ETA: 2s - loss: 0.7419 - acc: 0.7843"
     ]
    },
    {
     "name": "stderr",
     "output_type": "stream",
     "text": [
      "/home/ubuntu/anaconda3/envs/mxnet_p36/lib/python3.6/site-packages/mxnet/module/bucketing_module.py:408: UserWarning: Optimizer created manually outside Module but rescale_grad is not normalized to 1.0/batch_size/num_workers (1.0 vs. 0.015625). Is this intended?\n",
      "  force_init=force_init)\n"
     ]
    },
    {
     "name": "stdout",
     "output_type": "stream",
     "text": [
      "50000/50000 [==============================] - 3s 59us/step - loss: 0.2388 - acc: 0.9299 - val_loss: 0.1444 - val_acc: 0.9563\n",
      "Epoch 2/20\n",
      "50000/50000 [==============================] - 3s 63us/step - loss: 0.0998 - acc: 0.9708 - val_loss: 0.1026 - val_acc: 0.9698\n",
      "Epoch 3/20\n",
      "50000/50000 [==============================] - 3s 64us/step - loss: 0.0655 - acc: 0.9800 - val_loss: 0.0856 - val_acc: 0.9757\n",
      "Epoch 4/20\n",
      "50000/50000 [==============================] - 3s 65us/step - loss: 0.0468 - acc: 0.9859 - val_loss: 0.0819 - val_acc: 0.9762\n",
      "Epoch 5/20\n",
      "50000/50000 [==============================] - 3s 65us/step - loss: 0.0340 - acc: 0.9897 - val_loss: 0.0772 - val_acc: 0.9785\n",
      "Epoch 6/20\n",
      "50000/50000 [==============================] - 3s 65us/step - loss: 0.0265 - acc: 0.9922 - val_loss: 0.0896 - val_acc: 0.9764\n",
      "Epoch 7/20\n",
      "50000/50000 [==============================] - 3s 66us/step - loss: 0.0193 - acc: 0.9943 - val_loss: 0.0908 - val_acc: 0.9785\n",
      "Epoch 8/20\n",
      "50000/50000 [==============================] - 3s 66us/step - loss: 0.0152 - acc: 0.9954 - val_loss: 0.0798 - val_acc: 0.9800\n",
      "Epoch 9/20\n",
      "50000/50000 [==============================] - 3s 67us/step - loss: 0.0116 - acc: 0.9968 - val_loss: 0.0865 - val_acc: 0.9794\n",
      "Epoch 10/20\n",
      "50000/50000 [==============================] - 3s 66us/step - loss: 0.0089 - acc: 0.9973 - val_loss: 0.0903 - val_acc: 0.9786\n",
      "Epoch 11/20\n",
      "50000/50000 [==============================] - 3s 67us/step - loss: 0.0065 - acc: 0.9983 - val_loss: 0.0860 - val_acc: 0.9811\n",
      "Epoch 12/20\n",
      "50000/50000 [==============================] - 3s 67us/step - loss: 0.0050 - acc: 0.9990 - val_loss: 0.0855 - val_acc: 0.9813\n",
      "Epoch 13/20\n",
      "50000/50000 [==============================] - 3s 68us/step - loss: 0.0038 - acc: 0.9989 - val_loss: 0.0977 - val_acc: 0.9801\n",
      "Epoch 14/20\n",
      "50000/50000 [==============================] - 3s 67us/step - loss: 0.0025 - acc: 0.9994 - val_loss: 0.0925 - val_acc: 0.9806\n",
      "Epoch 15/20\n",
      "50000/50000 [==============================] - 3s 69us/step - loss: 0.0020 - acc: 0.9995 - val_loss: 0.0899 - val_acc: 0.9797\n",
      "Epoch 16/20\n",
      "50000/50000 [==============================] - 3s 68us/step - loss: 0.0014 - acc: 0.9997 - val_loss: 0.0964 - val_acc: 0.9804\n",
      "Epoch 17/20\n",
      "50000/50000 [==============================] - 3s 69us/step - loss: 8.9513e-04 - acc: 0.9998 - val_loss: 0.0982 - val_acc: 0.9801\n",
      "Epoch 18/20\n",
      "50000/50000 [==============================] - 3s 69us/step - loss: 6.6882e-04 - acc: 0.9999 - val_loss: 0.0928 - val_acc: 0.9817\n",
      "Epoch 19/20\n",
      "50000/50000 [==============================] - 3s 69us/step - loss: 5.3478e-04 - acc: 1.0000 - val_loss: 0.0924 - val_acc: 0.9818\n",
      "Epoch 20/20\n",
      "50000/50000 [==============================] - 3s 69us/step - loss: 3.7163e-04 - acc: 1.0000 - val_loss: 0.0934 - val_acc: 0.9823\n",
      "10000/10000 [==============================] - 0s 36us/step\n",
      "test_acc: 0.9832\n"
     ]
    },
    {
     "data": {
      "image/png": "[encoded data removed]",
      "text/plain": [
       "<Figure size 432x288 with 1 Axes>"
      ]
     },
     "metadata": {
      "needs_background": "light"
     },
     "output_type": "display_data"
    },
    {
     "data": {
      "image/png": "[encoded data removed]",
      "text/plain": [
       "<Figure size 432x288 with 1 Axes>"
      ]
     },
     "metadata": {
      "needs_background": "light"
     },
     "output_type": "display_data"
    }
   ],
   "source": [
    "\n",
    "\n",
    "\n",
    "network = models.Sequential()\n",
    "network.add(layers.Dense(512, activation='relu', input_shape=(28 * 28,)))\n",
    "network.add(layers.Dense(10, activation='softmax'))\n",
    "network.compile(optimizer='rmsprop',\n",
    "                loss='categorical_crossentropy',\n",
    "                metrics=['accuracy'])\n",
    "\n",
    "\n",
    "x_val = train_images[:10000]\n",
    "partial_x_train = train_images[10000:]\n",
    "\n",
    "y_val = train_labels[:10000]\n",
    "partial_y_train = train_labels[10000:]\n",
    "\n",
    "history = network.fit(partial_x_train,\n",
    "                    partial_y_train,\n",
    "                    epochs=20,\n",
    "                    batch_size=64,\n",
    "                    validation_data=(x_val, y_val))\n",
    "\n",
    "# network.fit(train_images, train_labels, epochs=5, batch_size=128)\n",
    "\n",
    "test_loss, test_acc = network.evaluate(test_images, test_labels)\n",
    "print('test_acc:', test_acc)\n",
    "\n",
    "showHistory(history)"
   ]
  },
  {
   "cell_type": "code",
   "execution_count": 197,
   "metadata": {},
   "outputs": [
    {
     "name": "stdout",
     "output_type": "stream",
     "text": [
      "Train on 50000 samples, validate on 10000 samples\n",
      "Epoch 1/20\n",
      " 4736/50000 [=>............................] - ETA: 1s - loss: 0.7429 - acc: 0.7918"
     ]
    },
    {
     "name": "stderr",
     "output_type": "stream",
     "text": [
      "/home/ubuntu/anaconda3/envs/mxnet_p36/lib/python3.6/site-packages/mxnet/module/bucketing_module.py:408: UserWarning: Optimizer created manually outside Module but rescale_grad is not normalized to 1.0/batch_size/num_workers (1.0 vs. 0.0078125). Is this intended?\n",
      "  force_init=force_init)\n"
     ]
    },
    {
     "name": "stdout",
     "output_type": "stream",
     "text": [
      "50000/50000 [==============================] - 2s 37us/step - loss: 0.2805 - acc: 0.9191 - val_loss: 0.1544 - val_acc: 0.9558\n",
      "Epoch 2/20\n",
      "50000/50000 [==============================] - 2s 38us/step - loss: 0.1151 - acc: 0.9652 - val_loss: 0.1139 - val_acc: 0.9664\n",
      "Epoch 3/20\n",
      "50000/50000 [==============================] - 2s 39us/step - loss: 0.0753 - acc: 0.9774 - val_loss: 0.0894 - val_acc: 0.9739\n",
      "Epoch 4/20\n",
      "50000/50000 [==============================] - 2s 39us/step - loss: 0.0531 - acc: 0.9837 - val_loss: 0.0805 - val_acc: 0.9763\n",
      "Epoch 5/20\n",
      "50000/50000 [==============================] - 2s 40us/step - loss: 0.0396 - acc: 0.9882 - val_loss: 0.0719 - val_acc: 0.9801\n",
      "Epoch 6/20\n",
      "50000/50000 [==============================] - 2s 40us/step - loss: 0.0300 - acc: 0.9909 - val_loss: 0.0768 - val_acc: 0.9775\n",
      "Epoch 7/20\n",
      "50000/50000 [==============================] - 2s 40us/step - loss: 0.0231 - acc: 0.9931 - val_loss: 0.0754 - val_acc: 0.9795\n",
      "Epoch 8/20\n",
      "50000/50000 [==============================] - 2s 40us/step - loss: 0.0181 - acc: 0.9947 - val_loss: 0.0688 - val_acc: 0.9807\n",
      "Epoch 9/20\n",
      "50000/50000 [==============================] - 2s 40us/step - loss: 0.0128 - acc: 0.9965 - val_loss: 0.0829 - val_acc: 0.9775\n",
      "Epoch 10/20\n",
      "50000/50000 [==============================] - 2s 40us/step - loss: 0.0102 - acc: 0.9974 - val_loss: 0.0802 - val_acc: 0.9799\n",
      "Epoch 11/20\n",
      "50000/50000 [==============================] - 2s 40us/step - loss: 0.0072 - acc: 0.9982 - val_loss: 0.0765 - val_acc: 0.9793\n",
      "Epoch 12/20\n",
      "50000/50000 [==============================] - 2s 40us/step - loss: 0.0058 - acc: 0.9988 - val_loss: 0.0774 - val_acc: 0.9814\n",
      "Epoch 13/20\n",
      "50000/50000 [==============================] - 2s 40us/step - loss: 0.0046 - acc: 0.9989 - val_loss: 0.0791 - val_acc: 0.9821\n",
      "Epoch 14/20\n",
      "50000/50000 [==============================] - 2s 40us/step - loss: 0.0032 - acc: 0.9994 - val_loss: 0.0897 - val_acc: 0.9792\n",
      "Epoch 15/20\n",
      "50000/50000 [==============================] - 2s 40us/step - loss: 0.0025 - acc: 0.9995 - val_loss: 0.0839 - val_acc: 0.9803\n",
      "Epoch 16/20\n",
      "50000/50000 [==============================] - 2s 41us/step - loss: 0.0017 - acc: 0.9997 - val_loss: 0.0858 - val_acc: 0.9815\n",
      "Epoch 17/20\n",
      "50000/50000 [==============================] - 2s 41us/step - loss: 0.0012 - acc: 0.9999 - val_loss: 0.0832 - val_acc: 0.9826\n",
      "Epoch 18/20\n",
      "50000/50000 [==============================] - 2s 41us/step - loss: 8.2076e-04 - acc: 0.9999 - val_loss: 0.0867 - val_acc: 0.9815\n",
      "Epoch 19/20\n",
      "50000/50000 [==============================] - 2s 41us/step - loss: 5.6788e-04 - acc: 1.0000 - val_loss: 0.0880 - val_acc: 0.9828\n",
      "Epoch 20/20\n",
      "50000/50000 [==============================] - 2s 41us/step - loss: 5.9858e-04 - acc: 0.9999 - val_loss: 0.0877 - val_acc: 0.9825\n",
      "10000/10000 [==============================] - 0s 36us/step\n",
      "test_acc: 0.9815\n"
     ]
    },
    {
     "data": {
      "image/png": "[encoded data removed]",
      "text/plain": [
       "<Figure size 432x288 with 1 Axes>"
      ]
     },
     "metadata": {
      "needs_background": "light"
     },
     "output_type": "display_data"
    },
    {
     "data": {
      "image/png": "[encoded data removed]",
      "text/plain": [
       "<Figure size 432x288 with 1 Axes>"
      ]
     },
     "metadata": {
      "needs_background": "light"
     },
     "output_type": "display_data"
    }
   ],
   "source": [
    "\n",
    "\n",
    "\n",
    "network = models.Sequential()\n",
    "network.add(layers.Dense(512, activation='relu', input_shape=(28 * 28,)))\n",
    "network.add(layers.Dense(10, activation='softmax'))\n",
    "network.compile(optimizer='rmsprop',\n",
    "                loss='categorical_crossentropy',\n",
    "                metrics=['accuracy'])\n",
    "\n",
    "\n",
    "x_val = train_images[:10000]\n",
    "partial_x_train = train_images[10000:]\n",
    "\n",
    "y_val = train_labels[:10000]\n",
    "partial_y_train = train_labels[10000:]\n",
    "\n",
    "history = network.fit(partial_x_train,\n",
    "                    partial_y_train,\n",
    "                    epochs=20,\n",
    "                    batch_size=512,\n",
    "                    validation_data=(x_val, y_val))\n",
    "\n",
    "# network.fit(train_images, train_labels, epochs=5, batch_size=128)\n",
    "\n",
    "test_loss, test_acc = network.evaluate(test_images, test_labels)\n",
    "print('test_acc:', test_acc)\n",
    "\n",
    "showHistory(history)"
   ]
  },
  {
   "cell_type": "code",
   "execution_count": 202,
   "metadata": {},
   "outputs": [
    {
     "name": "stdout",
     "output_type": "stream",
     "text": [
      "Epoch 1/5\n",
      " 4736/60000 [=>............................] - ETA: 1s - loss: 0.7221 - acc: 0.7897"
     ]
    },
    {
     "name": "stderr",
     "output_type": "stream",
     "text": [
      "/home/ubuntu/anaconda3/envs/mxnet_p36/lib/python3.6/site-packages/mxnet/module/bucketing_module.py:408: UserWarning: Optimizer created manually outside Module but rescale_grad is not normalized to 1.0/batch_size/num_workers (1.0 vs. 0.0078125). Is this intended?\n",
      "  force_init=force_init)\n"
     ]
    },
    {
     "name": "stdout",
     "output_type": "stream",
     "text": [
      "60000/60000 [==============================] - 2s 35us/step - loss: 0.2553 - acc: 0.9265\n",
      "Epoch 2/5\n",
      "60000/60000 [==============================] - 2s 35us/step - loss: 0.1044 - acc: 0.9696\n",
      "Epoch 3/5\n",
      "60000/60000 [==============================] - 2s 36us/step - loss: 0.0679 - acc: 0.9795\n",
      "Epoch 4/5\n",
      "60000/60000 [==============================] - 2s 37us/step - loss: 0.0496 - acc: 0.9846\n",
      "Epoch 5/5\n",
      "60000/60000 [==============================] - 2s 37us/step - loss: 0.0378 - acc: 0.9887\n",
      "10000/10000 [==============================] - 0s 36us/step\n",
      "test_acc: 0.9806\n"
     ]
    }
   ],
   "source": [
    "\n",
    "\n",
    "\n",
    "network = models.Sequential()\n",
    "network.add(layers.Dense(512, activation='relu', input_shape=(28 * 28,)))\n",
    "network.add(layers.Dense(10, activation='softmax'))\n",
    "network.compile(optimizer='rmsprop',\n",
    "                loss='categorical_crossentropy',\n",
    "                metrics=['accuracy'])\n",
    "\n",
    "history = network.fit(train_images,\n",
    "                    train_labels,\n",
    "                    epochs=5,\n",
    "                    batch_size=128)\n",
    "\n",
    "# network.fit(train_images, train_labels, epochs=5, batch_size=128)\n",
    "\n",
    "test_loss, test_acc = network.evaluate(test_images, test_labels)\n",
    "print('test_acc:', test_acc)\n"
   ]
  },
  {
   "cell_type": "code",
   "execution_count": 203,
   "metadata": {
    "scrolled": false
   },
   "outputs": [
    {
     "name": "stdout",
     "output_type": "stream",
     "text": [
      "errors:  20 / 1000\n"
     ]
    },
    {
     "data": {
      "image/png": "[encoded data removed]",
      "text/plain": [
       "<Figure size 432x288 with 1 Axes>"
      ]
     },
     "metadata": {
      "needs_background": "light"
     },
     "output_type": "display_data"
    },
    {
     "name": "stdout",
     "output_type": "stream",
     "text": [
      "label 4\n",
      "prediction 9\n",
      "error  0 115\n"
     ]
    },
    {
     "data": {
      "image/png": "[encoded data removed]",
      "text/plain": [
       "<Figure size 432x288 with 1 Axes>"
      ]
     },
     "metadata": {
      "needs_background": "light"
     },
     "output_type": "display_data"
    },
    {
     "name": "stdout",
     "output_type": "stream",
     "text": [
      "label 4\n",
      "prediction 2\n",
      "error  1 247\n"
     ]
    },
    {
     "data": {
      "image/png": "[encoded data removed]",
      "text/plain": [
       "<Figure size 432x288 with 1 Axes>"
      ]
     },
     "metadata": {
      "needs_background": "light"
     },
     "output_type": "display_data"
    },
    {
     "name": "stdout",
     "output_type": "stream",
     "text": [
      "label 6\n",
      "prediction 0\n",
      "error  2 259\n"
     ]
    },
    {
     "data": {
      "image/png": "[encoded data removed]",
      "text/plain": [
       "<Figure size 432x288 with 1 Axes>"
      ]
     },
     "metadata": {
      "needs_background": "light"
     },
     "output_type": "display_data"
    },
    {
     "name": "stdout",
     "output_type": "stream",
     "text": [
      "label 9\n",
      "prediction 3\n",
      "error  3 274\n"
     ]
    },
    {
     "data": {
      "image/png": "[encoded data removed]",
      "text/plain": [
       "<Figure size 432x288 with 1 Axes>"
      ]
     },
     "metadata": {
      "needs_background": "light"
     },
     "output_type": "display_data"
    },
    {
     "name": "stdout",
     "output_type": "stream",
     "text": [
      "label 2\n",
      "prediction 7\n",
      "error  4 321\n"
     ]
    },
    {
     "data": {
      "image/png": "[encoded data removed]",
      "text/plain": [
       "<Figure size 432x288 with 1 Axes>"
      ]
     },
     "metadata": {
      "needs_background": "light"
     },
     "output_type": "display_data"
    },
    {
     "name": "stdout",
     "output_type": "stream",
     "text": [
      "label 5\n",
      "prediction 3\n",
      "error  5 340\n"
     ]
    },
    {
     "data": {
      "image/png": "[encoded data removed]",
      "text/plain": [
       "<Figure size 432x288 with 1 Axes>"
      ]
     },
     "metadata": {
      "needs_background": "light"
     },
     "output_type": "display_data"
    },
    {
     "name": "stdout",
     "output_type": "stream",
     "text": [
      "label 3\n",
      "prediction 7\n",
      "error  6 381\n"
     ]
    },
    {
     "data": {
      "image/png": "[encoded data removed]",
      "text/plain": [
       "<Figure size 432x288 with 1 Axes>"
      ]
     },
     "metadata": {
      "needs_background": "light"
     },
     "output_type": "display_data"
    },
    {
     "name": "stdout",
     "output_type": "stream",
     "text": [
      "label 6\n",
      "prediction 0\n",
      "error  7 445\n"
     ]
    },
    {
     "data": {
      "image/png": "[encoded data removed]",
      "text/plain": [
       "<Figure size 432x288 with 1 Axes>"
      ]
     },
     "metadata": {
      "needs_background": "light"
     },
     "output_type": "display_data"
    },
    {
     "name": "stdout",
     "output_type": "stream",
     "text": [
      "label 8\n",
      "prediction 2\n",
      "error  8 495\n"
     ]
    },
    {
     "data": {
      "image/png": "[encoded data removed]",
      "text/plain": [
       "<Figure size 432x288 with 1 Axes>"
      ]
     },
     "metadata": {
      "needs_background": "light"
     },
     "output_type": "display_data"
    },
    {
     "name": "stdout",
     "output_type": "stream",
     "text": [
      "label 8\n",
      "prediction 2\n",
      "error  9 582\n"
     ]
    },
    {
     "data": {
      "image/png": "[encoded data removed]",
      "text/plain": [
       "<Figure size 432x288 with 1 Axes>"
      ]
     },
     "metadata": {
      "needs_background": "light"
     },
     "output_type": "display_data"
    },
    {
     "name": "stdout",
     "output_type": "stream",
     "text": [
      "label 4\n",
      "prediction 6\n",
      "error  10 610\n"
     ]
    },
    {
     "data": {
      "image/png": "[encoded data removed]",
      "text/plain": [
       "<Figure size 432x288 with 1 Axes>"
      ]
     },
     "metadata": {
      "needs_background": "light"
     },
     "output_type": "display_data"
    },
    {
     "name": "stdout",
     "output_type": "stream",
     "text": [
      "label 1\n",
      "prediction 8\n",
      "error  11 619\n"
     ]
    },
    {
     "data": {
      "image/png": "[encoded data removed]",
      "text/plain": [
       "<Figure size 432x288 with 1 Axes>"
      ]
     },
     "metadata": {
      "needs_background": "light"
     },
     "output_type": "display_data"
    },
    {
     "name": "stdout",
     "output_type": "stream",
     "text": [
      "label 2\n",
      "prediction 1\n",
      "error  12 659\n"
     ]
    },
    {
     "data": {
      "image/png": "[encoded data removed]",
      "text/plain": [
       "<Figure size 432x288 with 1 Axes>"
      ]
     },
     "metadata": {
      "needs_background": "light"
     },
     "output_type": "display_data"
    },
    {
     "name": "stdout",
     "output_type": "stream",
     "text": [
      "label 5\n",
      "prediction 3\n",
      "error  13 674\n"
     ]
    },
    {
     "data": {
      "image/png": "[encoded data removed]",
      "text/plain": [
       "<Figure size 432x288 with 1 Axes>"
      ]
     },
     "metadata": {
      "needs_background": "light"
     },
     "output_type": "display_data"
    },
    {
     "name": "stdout",
     "output_type": "stream",
     "text": [
      "label 7\n",
      "prediction 3\n",
      "error  14 684\n"
     ]
    },
    {
     "data": {
      "image/png": "[encoded data removed]",
      "text/plain": [
       "<Figure size 432x288 with 1 Axes>"
      ]
     },
     "metadata": {
      "needs_background": "light"
     },
     "output_type": "display_data"
    },
    {
     "name": "stdout",
     "output_type": "stream",
     "text": [
      "label 8\n",
      "prediction 4\n",
      "error  15 691\n"
     ]
    },
    {
     "data": {
      "image/png": "[encoded data removed]",
      "text/plain": [
       "<Figure size 432x288 with 1 Axes>"
      ]
     },
     "metadata": {
      "needs_background": "light"
     },
     "output_type": "display_data"
    },
    {
     "name": "stdout",
     "output_type": "stream",
     "text": [
      "label 5\n",
      "prediction 8\n",
      "error  16 720\n"
     ]
    },
    {
     "data": {
      "image/png": "[encoded data removed]",
      "text/plain": [
       "<Figure size 432x288 with 1 Axes>"
      ]
     },
     "metadata": {
      "needs_background": "light"
     },
     "output_type": "display_data"
    },
    {
     "name": "stdout",
     "output_type": "stream",
     "text": [
      "label 9\n",
      "prediction 8\n",
      "error  17 813\n"
     ]
    },
    {
     "data": {
      "image/png": "[encoded data removed]",
      "text/plain": [
       "<Figure size 432x288 with 1 Axes>"
      ]
     },
     "metadata": {
      "needs_background": "light"
     },
     "output_type": "display_data"
    },
    {
     "name": "stdout",
     "output_type": "stream",
     "text": [
      "label 5\n",
      "prediction 4\n",
      "error  18 951\n"
     ]
    },
    {
     "data": {
      "image/png": "[encoded data removed]",
      "text/plain": [
       "<Figure size 432x288 with 1 Axes>"
      ]
     },
     "metadata": {
      "needs_background": "light"
     },
     "output_type": "display_data"
    },
    {
     "name": "stdout",
     "output_type": "stream",
     "text": [
      "label 6\n",
      "prediction 0\n",
      "error  19 965\n"
     ]
    }
   ],
   "source": [
    "def showImg(idx, images, lables):\n",
    "    img = images[idx]\n",
    "    plt.imshow(img,cmap='gray')\n",
    "    plt.show()\n",
    "    \n",
    "\n",
    "def showPred(idx, images, labels, preds):\n",
    "    showImg(idx, images, labels)\n",
    "    print('label', labels[idx])\n",
    "    print('prediction', preds[idx])\n",
    "    \n",
    "subsample_n = 1000\n",
    "s_images_cp = test_images_cp[0:subsample_n]\n",
    "s_labels_cp = test_labels_cp[0:subsample_n]\n",
    "s_images = test_images[0:subsample_n]\n",
    "s_labels = test_labels[0:subsample_n]\n",
    "s_preds = network.predict_classes(s_images)\n",
    "\n",
    "error_idx = np.where(s_preds != s_labels_cp)[0]\n",
    "print('errors: ', len(error_idx), '/', subsample_n)\n",
    "for cnt, idx in enumerate(error_idx):\n",
    "    showPred(idx, s_images_cp, s_labels_cp, s_preds)\n",
    "    print('error ', cnt, idx)"
   ]
  },
  {
   "cell_type": "markdown",
   "metadata": {},
   "source": [
    "# A first look at a neural network\n",
    "\n",
    "This notebook contains the code samples found in Chapter 2, Section 1 of [Deep Learning with Python](https://www.manning.com/books/deep-learning-with-python?a_aid=keras&a_bid=76564dff). Note that the original text features far more content, in particular further explanations and figures: in this notebook, you will only find source code and related comments.\n",
    "\n",
    "----\n",
    "\n",
    "We will now take a look at a first concrete example of a neural network, which makes use of the Python library Keras to learn to classify \n",
    "hand-written digits. Unless you already have experience with Keras or similar libraries, you will not understand everything about this \n",
    "first example right away. You probably haven't even installed Keras yet. Don't worry, that is perfectly fine. In the next chapter, we will \n",
    "review each element in our example and explain them in detail. So don't worry if some steps seem arbitrary or look like magic to you! \n",
    "We've got to start somewhere.\n",
    "\n",
    "The problem we are trying to solve here is to classify grayscale images of handwritten digits (28 pixels by 28 pixels), into their 10 \n",
    "categories (0 to 9). The dataset we will use is the MNIST dataset, a classic dataset in the machine learning community, which has been \n",
    "around for almost as long as the field itself and has been very intensively studied. It's a set of 60,000 training images, plus 10,000 test \n",
    "images, assembled by the National Institute of Standards and Technology (the NIST in MNIST) in the 1980s. You can think of \"solving\" MNIST \n",
    "as the \"Hello World\" of deep learning -- it's what you do to verify that your algorithms are working as expected. As you become a machine \n",
    "learning practitioner, you will see MNIST come up over and over again, in scientific papers, blog posts, and so on."
   ]
  },
  {
   "cell_type": "markdown",
   "metadata": {},
   "source": [
    "The MNIST dataset comes pre-loaded in Keras, in the form of a set of four Numpy arrays:"
   ]
  },
  {
   "cell_type": "code",
   "execution_count": 91,
   "metadata": {},
   "outputs": [],
   "source": [
    "from keras.datasets import mnist\n",
    "\n",
    "(train_images, train_labels), (test_images, test_labels) = mnist.load_data()"
   ]
  },
  {
   "cell_type": "markdown",
   "metadata": {},
   "source": [
    "`train_images` and `train_labels` form the \"training set\", the data that the model will learn from. The model will then be tested on the \n",
    "\"test set\", `test_images` and `test_labels`. Our images are encoded as Numpy arrays, and the labels are simply an array of digits, ranging \n",
    "from 0 to 9. There is a one-to-one correspondence between the images and the labels.\n",
    "\n",
    "Let's have a look at the training data:"
   ]
  },
  {
   "cell_type": "code",
   "execution_count": 92,
   "metadata": {},
   "outputs": [
    {
     "data": {
      "text/plain": [
       "(60000, 28, 28)"
      ]
     },
     "execution_count": 92,
     "metadata": {},
     "output_type": "execute_result"
    }
   ],
   "source": [
    "train_images.shape"
   ]
  },
  {
   "cell_type": "code",
   "execution_count": 93,
   "metadata": {},
   "outputs": [
    {
     "data": {
      "text/plain": [
       "60000"
      ]
     },
     "execution_count": 93,
     "metadata": {},
     "output_type": "execute_result"
    }
   ],
   "source": [
    "len(train_labels)"
   ]
  },
  {
   "cell_type": "code",
   "execution_count": 94,
   "metadata": {},
   "outputs": [
    {
     "data": {
      "text/plain": [
       "array([5, 0, 4, ..., 5, 6, 8], dtype=uint8)"
      ]
     },
     "execution_count": 94,
     "metadata": {},
     "output_type": "execute_result"
    }
   ],
   "source": [
    "train_labels"
   ]
  },
  {
   "cell_type": "markdown",
   "metadata": {},
   "source": [
    "Let's have a look at the test data:"
   ]
  },
  {
   "cell_type": "code",
   "execution_count": 95,
   "metadata": {},
   "outputs": [
    {
     "data": {
      "text/plain": [
       "(10000, 28, 28)"
      ]
     },
     "execution_count": 95,
     "metadata": {},
     "output_type": "execute_result"
    }
   ],
   "source": [
    "test_images.shape"
   ]
  },
  {
   "cell_type": "code",
   "execution_count": 96,
   "metadata": {},
   "outputs": [
    {
     "data": {
      "text/plain": [
       "10000"
      ]
     },
     "execution_count": 96,
     "metadata": {},
     "output_type": "execute_result"
    }
   ],
   "source": [
    "len(test_labels)"
   ]
  },
  {
   "cell_type": "code",
   "execution_count": 97,
   "metadata": {},
   "outputs": [
    {
     "data": {
      "text/plain": [
       "array([7, 2, 1, ..., 4, 5, 6], dtype=uint8)"
      ]
     },
     "execution_count": 97,
     "metadata": {},
     "output_type": "execute_result"
    }
   ],
   "source": [
    "test_labels"
   ]
  },
  {
   "cell_type": "code",
   "execution_count": 178,
   "metadata": {},
   "outputs": [],
   "source": [
    "def showImg(idx, images, lables):\n",
    "    img = images[idx]\n",
    "    plt.imshow(img,cmap='gray')\n",
    "    plt.show()\n",
    "train_images_cp = train_images.copy()\n",
    "train_labels_cp = train_labels.copy()\n",
    "test_images_cp = test_images.copy()\n",
    "test_labels_cp = test_labels.copy()"
   ]
  },
  {
   "cell_type": "markdown",
   "metadata": {},
   "source": [
    "Our workflow will be as follow: first we will present our neural network with the training data, `train_images` and `train_labels`. The \n",
    "network will then learn to associate images and labels. Finally, we will ask the network to produce predictions for `test_images`, and we \n",
    "will verify if these predictions match the labels from `test_labels`.\n",
    "\n",
    "Let's build our network -- again, remember that you aren't supposed to understand everything about this example just yet."
   ]
  },
  {
   "cell_type": "code",
   "execution_count": 173,
   "metadata": {},
   "outputs": [],
   "source": [
    "from keras import models\n",
    "from keras import layers\n",
    "\n",
    "network = models.Sequential()\n",
    "network.add(layers.Dense(512, activation='relu', input_shape=(28 * 28,)))\n",
    "network.add(layers.Dense(10, activation='softmax'))"
   ]
  },
  {
   "cell_type": "markdown",
   "metadata": {},
   "source": [
    "\n",
    "The core building block of neural networks is the \"layer\", a data-processing module which you can conceive as a \"filter\" for data. Some \n",
    "data comes in, and comes out in a more useful form. Precisely, layers extract _representations_ out of the data fed into them -- hopefully \n",
    "representations that are more meaningful for the problem at hand. Most of deep learning really consists of chaining together simple layers \n",
    "which will implement a form of progressive \"data distillation\". A deep learning model is like a sieve for data processing, made of a \n",
    "succession of increasingly refined data filters -- the \"layers\".\n",
    "\n",
    "Here our network consists of a sequence of two `Dense` layers, which are densely-connected (also called \"fully-connected\") neural layers. \n",
    "The second (and last) layer is a 10-way \"softmax\" layer, which means it will return an array of 10 probability scores (summing to 1). Each \n",
    "score will be the probability that the current digit image belongs to one of our 10 digit classes.\n",
    "\n",
    "To make our network ready for training, we need to pick three more things, as part of \"compilation\" step:\n",
    "\n",
    "* A loss function: the is how the network will be able to measure how good a job it is doing on its training data, and thus how it will be \n",
    "able to steer itself in the right direction.\n",
    "* An optimizer: this is the mechanism through which the network will update itself based on the data it sees and its loss function.\n",
    "* Metrics to monitor during training and testing. Here we will only care about accuracy (the fraction of the images that were correctly \n",
    "classified).\n",
    "\n",
    "The exact purpose of the loss function and the optimizer will be made clear throughout the next two chapters."
   ]
  },
  {
   "cell_type": "code",
   "execution_count": 174,
   "metadata": {},
   "outputs": [],
   "source": [
    "network.compile(optimizer='rmsprop',\n",
    "                loss='categorical_crossentropy',\n",
    "                metrics=['accuracy'])"
   ]
  },
  {
   "cell_type": "markdown",
   "metadata": {},
   "source": [
    "\n",
    "Before training, we will preprocess our data by reshaping it into the shape that the network expects, and scaling it so that all values are in \n",
    "the `[0, 1]` interval. Previously, our training images for instance were stored in an array of shape `(60000, 28, 28)` of type `uint8` with \n",
    "values in the `[0, 255]` interval. We transform it into a `float32` array of shape `(60000, 28 * 28)` with values between 0 and 1."
   ]
  },
  {
   "cell_type": "code",
   "execution_count": 101,
   "metadata": {},
   "outputs": [],
   "source": [
    "train_images = train_images.reshape((60000, 28 * 28))\n",
    "train_images = train_images.astype('float32') / 255\n",
    "\n",
    "test_images = test_images.reshape((10000, 28 * 28))\n",
    "test_images = test_images.astype('float32') / 255"
   ]
  },
  {
   "cell_type": "markdown",
   "metadata": {},
   "source": [
    "We also need to categorically encode the labels, a step which we explain in chapter 3:"
   ]
  },
  {
   "cell_type": "code",
   "execution_count": 102,
   "metadata": {},
   "outputs": [],
   "source": [
    "from keras.utils import to_categorical\n",
    "\n",
    "train_labels = to_categorical(train_labels)\n",
    "test_labels = to_categorical(test_labels)"
   ]
  },
  {
   "cell_type": "markdown",
   "metadata": {},
   "source": [
    "We are now ready to train our network, which in Keras is done via a call to the `fit` method of the network: \n",
    "we \"fit\" the model to its training data."
   ]
  },
  {
   "cell_type": "code",
   "execution_count": 182,
   "metadata": {},
   "outputs": [
    {
     "name": "stdout",
     "output_type": "stream",
     "text": [
      "Train on 50000 samples, validate on 10000 samples\n",
      "Epoch 1/20\n",
      "50000/50000 [==============================] - 1s 22us/step - loss: 0.0037 - acc: 0.9996 - val_loss: 0.0711 - val_acc: 0.9813\n",
      "Epoch 2/20\n",
      "50000/50000 [==============================] - 1s 22us/step - loss: 0.0032 - acc: 0.9996 - val_loss: 0.0783 - val_acc: 0.9803\n",
      "Epoch 3/20\n",
      "50000/50000 [==============================] - 1s 22us/step - loss: 0.0024 - acc: 0.9998 - val_loss: 0.0757 - val_acc: 0.9812\n",
      "Epoch 4/20\n",
      "50000/50000 [==============================] - 1s 22us/step - loss: 0.0021 - acc: 0.9998 - val_loss: 0.0765 - val_acc: 0.9813\n",
      "Epoch 5/20\n",
      "50000/50000 [==============================] - 1s 22us/step - loss: 0.0013 - acc: 1.0000 - val_loss: 0.0785 - val_acc: 0.9818\n",
      "Epoch 6/20\n",
      "50000/50000 [==============================] - 1s 22us/step - loss: 0.0011 - acc: 1.0000 - val_loss: 0.0803 - val_acc: 0.9808\n",
      "Epoch 7/20\n",
      "50000/50000 [==============================] - 1s 22us/step - loss: 0.0011 - acc: 0.9999 - val_loss: 0.0784 - val_acc: 0.9809\n",
      "Epoch 8/20\n",
      "50000/50000 [==============================] - 1s 22us/step - loss: 7.4360e-04 - acc: 1.0000 - val_loss: 0.0781 - val_acc: 0.9827\n",
      "Epoch 9/20\n",
      "50000/50000 [==============================] - 1s 22us/step - loss: 6.7217e-04 - acc: 1.0000 - val_loss: 0.0783 - val_acc: 0.9823\n",
      "Epoch 10/20\n",
      "50000/50000 [==============================] - 1s 22us/step - loss: 5.7693e-04 - acc: 1.0000 - val_loss: 0.0793 - val_acc: 0.9823\n",
      "Epoch 11/20\n",
      "50000/50000 [==============================] - 1s 22us/step - loss: 4.8412e-04 - acc: 1.0000 - val_loss: 0.0798 - val_acc: 0.9820\n",
      "Epoch 12/20\n",
      "50000/50000 [==============================] - 1s 22us/step - loss: 4.4200e-04 - acc: 1.0000 - val_loss: 0.0803 - val_acc: 0.9826\n",
      "Epoch 13/20\n",
      "50000/50000 [==============================] - 1s 22us/step - loss: 4.0046e-04 - acc: 1.0000 - val_loss: 0.0809 - val_acc: 0.9826\n",
      "Epoch 14/20\n",
      "50000/50000 [==============================] - 1s 22us/step - loss: 3.5896e-04 - acc: 1.0000 - val_loss: 0.0810 - val_acc: 0.9822\n",
      "Epoch 15/20\n",
      "50000/50000 [==============================] - 1s 22us/step - loss: 3.3701e-04 - acc: 1.0000 - val_loss: 0.0821 - val_acc: 0.9827\n",
      "Epoch 16/20\n",
      "50000/50000 [==============================] - 1s 22us/step - loss: 3.1412e-04 - acc: 1.0000 - val_loss: 0.0825 - val_acc: 0.9825\n",
      "Epoch 17/20\n",
      "50000/50000 [==============================] - 1s 22us/step - loss: 2.9097e-04 - acc: 1.0000 - val_loss: 0.0816 - val_acc: 0.9831\n",
      "Epoch 18/20\n",
      "50000/50000 [==============================] - 1s 22us/step - loss: 2.7250e-04 - acc: 1.0000 - val_loss: 0.0831 - val_acc: 0.9826\n",
      "Epoch 19/20\n",
      "50000/50000 [==============================] - 1s 22us/step - loss: 2.5598e-04 - acc: 1.0000 - val_loss: 0.0841 - val_acc: 0.9827\n",
      "Epoch 20/20\n",
      "50000/50000 [==============================] - 1s 22us/step - loss: 2.4251e-04 - acc: 1.0000 - val_loss: 0.0835 - val_acc: 0.9829\n"
     ]
    }
   ],
   "source": [
    "\n",
    "x_val = train_images[:10000]\n",
    "partial_x_train = train_images[10000:]\n",
    "\n",
    "y_val = train_labels[:10000]\n",
    "partial_y_train = train_labels[10000:]\n",
    "\n",
    "history = network.fit(partial_x_train,\n",
    "                    partial_y_train,\n",
    "                    epochs=20,\n",
    "                    batch_size=512,\n",
    "                    validation_data=(x_val, y_val))\n",
    "\n",
    "# network.fit(train_images, train_labels, epochs=5, batch_size=128)"
   ]
  },
  {
   "cell_type": "code",
   "execution_count": 176,
   "metadata": {},
   "outputs": [
    {
     "data": {
      "image/png": "[encoded data removed]",
      "text/plain": [
       "<Figure size 432x288 with 1 Axes>"
      ]
     },
     "metadata": {
      "needs_background": "light"
     },
     "output_type": "display_data"
    }
   ],
   "source": [
    "import matplotlib.pyplot as plt\n",
    "\n",
    "acc = history.history['acc']\n",
    "val_acc = history.history['val_acc']\n",
    "loss = history.history['loss']\n",
    "val_loss = history.history['val_loss']\n",
    "\n",
    "epochs = range(1, len(acc) + 1)\n",
    "\n",
    "# \"bo\" is for \"blue dot\"\n",
    "plt.plot(epochs, loss, 'bo', label='Training loss')\n",
    "# b is for \"solid blue line\"\n",
    "plt.plot(epochs, val_loss, 'b', label='Validation loss')\n",
    "plt.title('Training and validation loss')\n",
    "plt.xlabel('Epochs')\n",
    "plt.ylabel('Loss')\n",
    "plt.legend()\n",
    "\n",
    "plt.show()"
   ]
  },
  {
   "cell_type": "markdown",
   "metadata": {},
   "source": [
    "Two quantities are being displayed during training: the \"loss\" of the network over the training data, and the accuracy of the network over \n",
    "the training data.\n",
    "\n",
    "We quickly reach an accuracy of 0.989 (i.e. 98.9%) on the training data. Now let's check that our model performs well on the test set too:"
   ]
  },
  {
   "cell_type": "code",
   "execution_count": 165,
   "metadata": {},
   "outputs": [
    {
     "name": "stdout",
     "output_type": "stream",
     "text": [
      "10000/10000 [==============================] - 1s 58us/step\n"
     ]
    }
   ],
   "source": [
    "test_loss, test_acc = network.evaluate(test_images, test_labels)"
   ]
  },
  {
   "cell_type": "code",
   "execution_count": 166,
   "metadata": {},
   "outputs": [
    {
     "name": "stdout",
     "output_type": "stream",
     "text": [
      "test_acc: 0.9776\n"
     ]
    }
   ],
   "source": [
    "print('test_acc:', test_acc)"
   ]
  },
  {
   "cell_type": "markdown",
   "metadata": {},
   "source": [
    "Our test set accuracy turns out to be 97.8% -- that's quite a bit lower than the training set accuracy. \n",
    "This gap between training accuracy and test accuracy is an example of \"overfitting\", \n",
    "the fact that machine learning models tend to perform worse on new data than on their training data. \n",
    "Overfitting will be a central topic in chapter 3.\n",
    "\n",
    "This concludes our very first example -- you just saw how we could build and a train a neural network to classify handwritten digits, in \n",
    "less than 20 lines of Python code. In the next chapter, we will go in detail over every moving piece we just previewed, and clarify what is really \n",
    "going on behind the scenes. You will learn about \"tensors\", the data-storing objects going into the network, about tensor operations, which \n",
    "layers are made of, and about gradient descent, which allows our network to learn from its training examples."
   ]
  },
  {
   "cell_type": "markdown",
   "metadata": {},
   "source": []
  },
  {
   "cell_type": "code",
   "execution_count": null,
   "metadata": {},
   "outputs": [],
   "source": []
  },
  {
   "cell_type": "code",
   "execution_count": null,
   "metadata": {
    "scrolled": false
   },
   "outputs": [],
   "source": []
  },
  {
   "cell_type": "code",
   "execution_count": null,
   "metadata": {},
   "outputs": [],
   "source": []
  },
  {
   "cell_type": "code",
   "execution_count": null,
   "metadata": {},
   "outputs": [],
   "source": []
  }
 ],
 "metadata": {
  "kernelspec": {
   "display_name": "Python [default]",
   "language": "python",
   "name": "python3"
  },
  "language_info": {
   "codemirror_mode": {
    "name": "ipython",
    "version": 3
   },
   "file_extension": ".py",
   "mimetype": "text/x-python",
   "name": "python",
   "nbconvert_exporter": "python",
   "pygments_lexer": "ipython3",
   "version": "3.6.6"
  }
 },
 "nbformat": 4,
 "nbformat_minor": 2
}
